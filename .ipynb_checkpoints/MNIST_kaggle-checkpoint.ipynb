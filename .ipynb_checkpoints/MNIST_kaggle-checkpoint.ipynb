{
 "cells": [
  {
   "cell_type": "code",
   "execution_count": 1,
   "metadata": {},
   "outputs": [],
   "source": [
    "#import modules\n",
    "import numpy as np\n",
    "import matplotlib.pyplot as plt\n",
    "import copy\n",
    "import os\n",
    "from sklearn.model_selection import train_test_split\n",
    "\n",
    "import torch\n",
    "import torch.nn as nn\n",
    "from torch.utils.data import Dataset, DataLoader\n",
    "import torch.functional as F\n",
    "\n",
    "import torchvision\n",
    "import torchvision.models as models\n",
    "import torchvision.transforms as transforms"
   ]
  },
  {
   "cell_type": "code",
   "execution_count": 2,
   "metadata": {},
   "outputs": [
    {
     "data": {
      "text/plain": [
       "['processed', 'raw']"
      ]
     },
     "execution_count": 2,
     "metadata": {},
     "output_type": "execute_result"
    }
   ],
   "source": [
    "PATH = '../Datasets/MNIST/'\n",
    "os.listdir(PATH)"
   ]
  },
  {
   "cell_type": "code",
   "execution_count": 3,
   "metadata": {},
   "outputs": [],
   "source": [
    "# Applying transforamtion on train and and validation \n",
    "transform = transforms.Compose([\n",
    "        transforms.ToPILImage(),\n",
    "        transforms.Resize(224),\n",
    "        transforms.ToTensor(),\n",
    "        transforms.Lambda(lambda x: x.repeat(3,1,1))\n",
    "#     transforms.Normalize(mean=(0.5,0.5,0.5),std=(0.5,0.5,0.5))\n",
    "   ])"
   ]
  },
  {
   "cell_type": "code",
   "execution_count": null,
   "metadata": {
    "scrolled": false
   },
   "outputs": [],
   "source": [
    "#Lets load the TRAIN dataset for MNIST\n",
    "Data = torchvision.datasets.MNIST(root=PATH,transform=None)\n",
    "#split the data into train and val set.\n",
    "dataList = []\n",
    "for batch_id,image in enumerate(Data.train_data):\n",
    "    img = image.unsqueeze_(dim=0)\n",
    "    dataList.append(transform(img))\n",
    "    \n",
    "dataList = torch.stack(dataList)\n",
    "allDataTensor = torch.utils.data.TensorDataset(dataList,Data.train_labels)\n",
    "trainData, valData = torch.utils.data.dataset.random_split(allDataTensor,[48000,12000])\n",
    "\n",
    "#Creating dataloaders for train and val set\n",
    "trainLoader = torch.utils.data.DataLoader(dataset=trainData,batch_size=4,shuffle=False,num_workers=4)\n",
    "valLoader = torch.utils.data.DataLoader(dataset=valData,batch_size=4,shuffle=False,num_workers=4)"
   ]
  },
  {
   "cell_type": "code",
   "execution_count": 5,
   "metadata": {},
   "outputs": [
    {
     "data": {
      "text/plain": [
       "torch.Size([3, 64, 64])"
      ]
     },
     "execution_count": 5,
     "metadata": {},
     "output_type": "execute_result"
    }
   ],
   "source": [
    "trainLoader.dataset[0][0].size()"
   ]
  },
  {
   "cell_type": "code",
   "execution_count": 6,
   "metadata": {},
   "outputs": [],
   "source": [
    "#lets load TEST daaset\n",
    "testDataList = []\n",
    "testData = torchvision.datasets.MNIST(root=PATH,train=False,transform=None)\n",
    "# testLoader = torch.utils.data.DataLoader(dataset=testData,batch_size=4,shuffle=False,num_workers=4)\n",
    "for batch_id,image in enumerate(testData.test_data):\n",
    "    img = image.unsqueeze_(dim=0)\n",
    "    testDataList.append(transform(img))\n",
    "    \n",
    "testDataList = torch.utils.data.TensorDataset(torch.stack(testDataList),testData.test_labels)\n",
    "testLoader = torch.utils.data.DataLoader(dataset=testDataList,batch_size=4,shuffle=False,num_workers=4)"
   ]
  },
  {
   "cell_type": "code",
   "execution_count": 7,
   "metadata": {},
   "outputs": [
    {
     "name": "stdout",
     "output_type": "stream",
     "text": [
      "No. of training examples =  48000\n",
      "No. of validation examples =  12000\n",
      "No. of test examples =  10000\n"
     ]
    }
   ],
   "source": [
    "print(\"No. of training examples = \",len(trainLoader.dataset))\n",
    "print(\"No. of validation examples = \",len(valLoader.dataset))\n",
    "print(\"No. of test examples = \",len(testLoader.dataset))"
   ]
  },
  {
   "cell_type": "code",
   "execution_count": 8,
   "metadata": {
    "scrolled": false
   },
   "outputs": [],
   "source": [
    "#visualizing no. of examples of each type\n",
    "def total_count(loader):\n",
    "    totalClassCount = [0,0,0,0,0,0,0,0,0,0]\n",
    "\n",
    "    for batch_id,(images,labels) in enumerate(loader):\n",
    "        for label in labels:\n",
    "            totalClassCount[label.item()] += 1\n",
    "    return totalClassCount"
   ]
  },
  {
   "cell_type": "code",
   "execution_count": 9,
   "metadata": {},
   "outputs": [
    {
     "name": "stdout",
     "output_type": "stream",
     "text": [
      "Digit class =  [0, 1, 2, 3, 4, 5, 6, 7, 8, 9]\n"
     ]
    },
    {
     "data": {
      "text/plain": [
       "Text(0.5,1,'Test Set')"
      ]
     },
     "execution_count": 9,
     "metadata": {},
     "output_type": "execute_result"
    },
    {
     "data": {
      "image/png": "[encoded data removed]",
      "text/plain": [
       "<Figure size 432x288 with 1 Axes>"
      ]
     },
     "metadata": {},
     "output_type": "display_data"
    },
    {
     "data": {
      "image/png": "[encoded data removed]",
      "text/plain": [
       "<Figure size 432x288 with 1 Axes>"
      ]
     },
     "metadata": {},
     "output_type": "display_data"
    },
    {
     "data": {
      "image/png": "[encoded data removed]",
      "text/plain": [
       "<Figure size 432x288 with 1 Axes>"
      ]
     },
     "metadata": {},
     "output_type": "display_data"
    }
   ],
   "source": [
    "classes = [0,1,2,3,4,5,6,7,8,9]\n",
    "print(\"Digit class = \",classes)\n",
    "totalCount = total_count(trainLoader)\n",
    "\n",
    "fig0, ax0 = plt.subplots()\n",
    "ax0.barh(y=classes,width=totalCount)\n",
    "ax0.set_xlabel('# Examples')\n",
    "ax0.set_ylabel('# Digit Classes')\n",
    "ax0.set_title('Train Set')\n",
    "\n",
    "totalCountVal = total_count(valLoader)\n",
    "\n",
    "fig1, ax1 = plt.subplots()\n",
    "ax1.barh(y=classes,width=totalCountVal)\n",
    "ax1.set_xlabel('# Examples')\n",
    "ax1.set_ylabel('# Digit Classes')\n",
    "ax1.set_title('Validation Set')\n",
    "\n",
    "totalCountTest = total_count(testLoader)\n",
    "\n",
    "fig1, ax1 = plt.subplots()\n",
    "ax1.barh(y=classes,width=totalCountTest)\n",
    "ax1.set_xlabel('# Examples')\n",
    "ax1.set_ylabel('# Digit Classes')\n",
    "ax1.set_title('Test Set')"
   ]
  },
  {
   "cell_type": "code",
   "execution_count": 10,
   "metadata": {},
   "outputs": [
    {
     "data": {
      "text/plain": [
       "device(type='cuda')"
      ]
     },
     "execution_count": 10,
     "metadata": {},
     "output_type": "execute_result"
    }
   ],
   "source": [
    "device = torch.device(\"cuda\" if torch.cuda.is_available() else \"cpu\")\n",
    "device"
   ]
  },
  {
   "cell_type": "code",
   "execution_count": 11,
   "metadata": {},
   "outputs": [],
   "source": [
    "def train_model(model,mode,decay,dataloader,scheduler,criterion,optimizer,dictionary,num_epochs=5):\n",
    "    correct = 0\n",
    "    totalSize = 0\n",
    "    totalLoss = []\n",
    "    totalLRs = []\n",
    "    LR = 0\n",
    "    \n",
    "    for epoch in range(num_epochs):\n",
    "        if(decay == True):\n",
    "            for params in optimizer.param_groups:\n",
    "                LR = params['lr'] - (0.1**(epoch//7))\n",
    "                params['lr'] = LR\n",
    "            totalLRs.append(LR)\n",
    "        else:\n",
    "            scheduler.step()\n",
    "        \n",
    "        if(mode == True):\n",
    "            model.train()\n",
    "        else:\n",
    "            model.eval()\n",
    "            \n",
    "        print(\"Epoch {}/{}\".format(epoch,num_epochs-1))\n",
    "        for batch_id,(images,labels) in enumerate(dataloader):\n",
    "            optimizer.zero_grad()\n",
    "            images = images.to(device)\n",
    "            labels = labels.to(device)\n",
    "            \n",
    "            outputs = model(images)\n",
    "            loss = criterion(outputs,labels)\n",
    "            _, predictedIndex = torch.max(outputs,1)\n",
    "            correct += (predictedIndex == labels).sum().item()\n",
    "            totalSize += labels.size(0)\n",
    "            \n",
    "            print(\"Loss = {0.%5f}\".format(loss.item()),end=\"\\r\",flush=True)\n",
    "            loss.backward()\n",
    "            optimizer.step()\n",
    "            \n",
    "            del images, labels\n",
    "            \n",
    "        totalLoss.append(loss)\n",
    "        torch.cuda.empty_cache()\n",
    "        \n",
    "    dictionary['totalLoss'] = totalLoss\n",
    "    dictionary['correct'] = correct\n",
    "    dictionary['totalSize'] = totalSize           #for accuracy\n",
    "    dictionary['LRs'] = totalLRs\n",
    "    \n",
    "    return model, dictionary\n",
    "    "
   ]
  },
  {
   "cell_type": "code",
   "execution_count": 12,
   "metadata": {},
   "outputs": [
    {
     "name": "stdout",
     "output_type": "stream",
     "text": [
      "VGG(\n",
      "  (features): Sequential(\n",
      "    (0): Conv2d(3, 64, kernel_size=(3, 3), stride=(1, 1), padding=(1, 1))\n",
      "    (1): ReLU(inplace)\n",
      "    (2): Conv2d(64, 64, kernel_size=(3, 3), stride=(1, 1), padding=(1, 1))\n",
      "    (3): ReLU(inplace)\n",
      "    (4): MaxPool2d(kernel_size=2, stride=2, padding=0, dilation=1, ceil_mode=False)\n",
      "    (5): Conv2d(64, 128, kernel_size=(3, 3), stride=(1, 1), padding=(1, 1))\n",
      "    (6): ReLU(inplace)\n",
      "    (7): Conv2d(128, 128, kernel_size=(3, 3), stride=(1, 1), padding=(1, 1))\n",
      "    (8): ReLU(inplace)\n",
      "    (9): MaxPool2d(kernel_size=2, stride=2, padding=0, dilation=1, ceil_mode=False)\n",
      "    (10): Conv2d(128, 256, kernel_size=(3, 3), stride=(1, 1), padding=(1, 1))\n",
      "    (11): ReLU(inplace)\n",
      "    (12): Conv2d(256, 256, kernel_size=(3, 3), stride=(1, 1), padding=(1, 1))\n",
      "    (13): ReLU(inplace)\n",
      "    (14): Conv2d(256, 256, kernel_size=(3, 3), stride=(1, 1), padding=(1, 1))\n",
      "    (15): ReLU(inplace)\n",
      "    (16): MaxPool2d(kernel_size=2, stride=2, padding=0, dilation=1, ceil_mode=False)\n",
      "    (17): Conv2d(256, 512, kernel_size=(3, 3), stride=(1, 1), padding=(1, 1))\n",
      "    (18): ReLU(inplace)\n",
      "    (19): Conv2d(512, 512, kernel_size=(3, 3), stride=(1, 1), padding=(1, 1))\n",
      "    (20): ReLU(inplace)\n",
      "    (21): Conv2d(512, 512, kernel_size=(3, 3), stride=(1, 1), padding=(1, 1))\n",
      "    (22): ReLU(inplace)\n",
      "    (23): MaxPool2d(kernel_size=2, stride=2, padding=0, dilation=1, ceil_mode=False)\n",
      "    (24): Conv2d(512, 512, kernel_size=(3, 3), stride=(1, 1), padding=(1, 1))\n",
      "    (25): ReLU(inplace)\n",
      "    (26): Conv2d(512, 512, kernel_size=(3, 3), stride=(1, 1), padding=(1, 1))\n",
      "    (27): ReLU(inplace)\n",
      "    (28): Conv2d(512, 512, kernel_size=(3, 3), stride=(1, 1), padding=(1, 1))\n",
      "    (29): ReLU(inplace)\n",
      "    (30): MaxPool2d(kernel_size=2, stride=2, padding=0, dilation=1, ceil_mode=False)\n",
      "  )\n",
      "  (classifier): Sequential(\n",
      "    (0): Linear(in_features=25088, out_features=4096, bias=True)\n",
      "    (1): ReLU(inplace)\n",
      "    (2): Dropout(p=0.5)\n",
      "    (3): Linear(in_features=4096, out_features=4096, bias=True)\n",
      "    (4): ReLU(inplace)\n",
      "    (5): Dropout(p=0.5)\n",
      "    (6): Linear(in_features=4096, out_features=10, bias=True)\n",
      "  )\n",
      ")\n"
     ]
    }
   ],
   "source": [
    "model_ft = models.vgg16(pretrained=True)\n",
    "\n",
    "cnt = 0\n",
    "for param in model_ft.parameters():\n",
    "    if(cnt<=7):\n",
    "        param.requires_grad = False\n",
    "    else:\n",
    "        param.requires_grad = True\n",
    "    cnt +=1\n",
    "\n",
    "\n",
    "model_ft.classifier[6].out_features = 10\n",
    "model_ft = model_ft.to(device)\n",
    "print(model_ft)\n",
    "criterion = torch.nn.CrossEntropyLoss()\n",
    "\n",
    "optimizer = torch.optim.SGD(params = list(filter((lambda x:x.requires_grad == True),model_ft.parameters())),lr=0.01,momentum = 0.9)\n",
    "exp_lr_scheduler = torch.optim.lr_scheduler.StepLR(optimizer=optimizer,step_size=7,gamma=0.1)\n",
    "torch.nn.Conv2d()"
   ]
  },
  {
   "cell_type": "code",
   "execution_count": null,
   "metadata": {},
   "outputs": [],
   "source": [
    "#### dictModel = {}\n",
    "model_ft, dictModel = train_model(model=model_ft,mode=True,decay=True,dataloader=trainLoader,scheduler=exp_lr_scheduler,criterion=criterion,optimizer=optimizer,dictionary=dictModel,num_epochs=12)"
   ]
  },
  {
   "cell_type": "code",
   "execution_count": 9,
   "metadata": {},
   "outputs": [
    {
     "data": {
      "text/plain": [
       "(tensor([[[ 0.0000,  0.0000,  0.0000,  ...,  0.0000,  0.0000,  0.0000],\n",
       "          [ 0.0000,  0.0000,  0.0000,  ...,  0.0000,  0.0000,  0.0000],\n",
       "          [ 0.0000,  0.0000,  0.0000,  ...,  0.0000,  0.0000,  0.0000],\n",
       "          ...,\n",
       "          [ 0.0000,  0.0000,  0.0000,  ...,  0.0000,  0.0000,  0.0000],\n",
       "          [ 0.0000,  0.0000,  0.0000,  ...,  0.0000,  0.0000,  0.0000],\n",
       "          [ 0.0000,  0.0000,  0.0000,  ...,  0.0000,  0.0000,  0.0000]],\n",
       " \n",
       "         [[ 0.0000,  0.0000,  0.0000,  ...,  0.0000,  0.0000,  0.0000],\n",
       "          [ 0.0000,  0.0000,  0.0000,  ...,  0.0000,  0.0000,  0.0000],\n",
       "          [ 0.0000,  0.0000,  0.0000,  ...,  0.0000,  0.0000,  0.0000],\n",
       "          ...,\n",
       "          [ 0.0000,  0.0000,  0.0000,  ...,  0.0000,  0.0000,  0.0000],\n",
       "          [ 0.0000,  0.0000,  0.0000,  ...,  0.0000,  0.0000,  0.0000],\n",
       "          [ 0.0000,  0.0000,  0.0000,  ...,  0.0000,  0.0000,  0.0000]],\n",
       " \n",
       "         [[ 0.0000,  0.0000,  0.0000,  ...,  0.0000,  0.0000,  0.0000],\n",
       "          [ 0.0000,  0.0000,  0.0000,  ...,  0.0000,  0.0000,  0.0000],\n",
       "          [ 0.0000,  0.0000,  0.0000,  ...,  0.0000,  0.0000,  0.0000],\n",
       "          ...,\n",
       "          [ 0.0000,  0.0000,  0.0000,  ...,  0.0000,  0.0000,  0.0000],\n",
       "          [ 0.0000,  0.0000,  0.0000,  ...,  0.0000,  0.0000,  0.0000],\n",
       "          [ 0.0000,  0.0000,  0.0000,  ...,  0.0000,  0.0000,  0.0000]]]),\n",
       " tensor(3))"
      ]
     },
     "execution_count": 9,
     "metadata": {},
     "output_type": "execute_result"
    }
   ],
   "source": [
    "trainLoader.dataset[0]"
   ]
  },
  {
   "cell_type": "code",
   "execution_count": null,
   "metadata": {},
   "outputs": [],
   "source": []
  }
 ],
 "metadata": {
  "kernelspec": {
   "display_name": "Python 3",
   "language": "python",
   "name": "python3"
  },
  "language_info": {
   "codemirror_mode": {
    "name": "ipython",
    "version": 3
   },
   "file_extension": ".py",
   "mimetype": "text/x-python",
   "name": "python",
   "nbconvert_exporter": "python",
   "pygments_lexer": "ipython3",
   "version": "3.6.5"
  }
 },
 "nbformat": 4,
 "nbformat_minor": 2
}
